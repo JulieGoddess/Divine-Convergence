{
 "cells": [
  {
   "cell_type": "markdown",
   "id": "faeba065",
   "metadata": {},
   "source": [
    "# 🔐 Divine Convergence – D1 Chart Parser with Ascendant + Firebase"
   ]
  },
  {
   "cell_type": "code",
   "execution_count": null,
   "id": "b424cb9e",
   "metadata": {},
   "outputs": [],
   "source": [
    "\n",
    "from google.colab import files\n",
    "uploaded = files.upload()\n",
    "\n",
    "import json\n",
    "import os\n",
    "\n",
    "for fn in uploaded.keys():\n",
    "    if fn.endswith('.json'):\n",
    "        firebase_key_path = fn\n",
    "        break\n"
   ]
  },
  {
   "cell_type": "code",
   "execution_count": null,
   "id": "88d0091b",
   "metadata": {},
   "outputs": [],
   "source": [
    "!pip install firebase-admin"
   ]
  },
  {
   "cell_type": "code",
   "execution_count": null,
   "id": "e7ce417a",
   "metadata": {},
   "outputs": [],
   "source": [
    "\n",
    "import firebase_admin\n",
    "from firebase_admin import credentials, firestore\n",
    "\n",
    "cred = credentials.Certificate(firebase_key_path)\n",
    "firebase_admin.initialize_app(cred)\n",
    "db = firestore.client()\n"
   ]
  },
  {
   "cell_type": "code",
   "execution_count": null,
   "id": "25a2c61e",
   "metadata": {},
   "outputs": [],
   "source": [
    "\n",
    "import re\n",
    "import urllib.parse\n",
    "\n",
    "zodiac_signs = [\n",
    "    \"Aries\", \"Taurus\", \"Gemini\", \"Cancer\", \"Leo\", \"Virgo\",\n",
    "    \"Libra\", \"Scorpio\", \"Sagittarius\", \"Capricorn\", \"Aquarius\", \"Pisces\"\n",
    "]\n",
    "\n",
    "def degree_to_sign(degree_float):\n",
    "    sign_index = int(degree_float // 30)\n",
    "    degree_within_sign = round(degree_float % 30, 2)\n",
    "    return f\"{degree_within_sign:.2f}° {zodiac_signs[sign_index]}\"\n",
    "\n",
    "def build_astroseek_chart_url(birth_data):\n",
    "    base_url = \"https://horoscopes.astro-seek.com/birth-chart-horoscope-online\"\n",
    "    params = {\n",
    "        \"narozeni_den\": birth_data[\"day\"],\n",
    "        \"narozeni_mesic\": birth_data[\"month\"],\n",
    "        \"narozeni_rok\": birth_data[\"year\"],\n",
    "        \"narozeni_hodina\": birth_data[\"hour\"],\n",
    "        \"narozeni_minuta\": birth_data[\"minute\"],\n",
    "        \"narozeni_mesto\": birth_data[\"city\"],\n",
    "        \"send\": \"Send\"\n",
    "    }\n",
    "    return f\"{base_url}?{urllib.parse.urlencode(params)}\"\n",
    "\n",
    "def parse_astroseek_d1(url):\n",
    "    pattern = re.compile(r\"p_([a-zA-Z_]+)=([\\d.]+)\")\n",
    "    matches = pattern.findall(url)\n",
    "\n",
    "    aliases = {\n",
    "        \"slunce\": \"Sun\", \"sun\": \"Sun\",\n",
    "        \"luna\": \"Moon\", \"moon\": \"Moon\",\n",
    "        \"mercury\": \"Mercury\", \"venus\": \"Venus\", \"mars\": \"Mars\",\n",
    "        \"jupiter\": \"Jupiter\", \"saturn\": \"Saturn\",\n",
    "        \"uran\": \"Uranus\", \"neptun\": \"Neptune\", \"pluto\": \"Pluto\",\n",
    "        \"uzel\": \"North Node\", \"lilith\": \"Lilith\", \"chiron\": \"Chiron\",\n",
    "        \"vertex\": \"Vertex\", \"fortune\": \"Fortune\", \"spirit\": \"Spirit\"\n",
    "    }\n",
    "\n",
    "    chart_data = {}\n",
    "    for raw_planet, value in matches:\n",
    "        try:\n",
    "            degree = float(value)\n",
    "            key = raw_planet.lower()\n",
    "            planet_name = aliases.get(key, key.capitalize())\n",
    "            chart_data[planet_name] = degree_to_sign(degree)\n",
    "        except ValueError:\n",
    "            print(f\"⚠️ Skipping invalid value for {raw_planet}: {value}\")\n",
    "\n",
    "    # ASCENDANT\n",
    "    asc_match = re.search(r\"dum_1_new=([\\d.]+)\", url)\n",
    "    if asc_match:\n",
    "        asc_degree = float(asc_match.group(1))\n",
    "        chart_data[\"Ascendant\"] = degree_to_sign(asc_degree)\n",
    "\n",
    "    return chart_data\n"
   ]
  },
  {
   "cell_type": "code",
   "execution_count": null,
   "id": "37e0a953",
   "metadata": {},
   "outputs": [],
   "source": [
    "\n",
    "def push_to_firebase(user_id, birth_data, chart_data):\n",
    "    user_ref = db.collection('users').document(user_id)\n",
    "    user_ref.set({\n",
    "        'birthData': birth_data,\n",
    "        'chartData': chart_data,\n",
    "        'matchStatus': 'waiting'\n",
    "    })\n",
    "    print(f\"Pushed {user_id} to Firebase.\")\n"
   ]
  },
  {
   "cell_type": "code",
   "execution_count": null,
   "id": "4683cd8e",
   "metadata": {},
   "outputs": [],
   "source": [
    "\n",
    "birth_data = {\n",
    "    \"day\": 2,\n",
    "    \"month\": 7,\n",
    "    \"year\": 1985,\n",
    "    \"hour\": 5,\n",
    "    \"minute\": 25,\n",
    "    \"city\": \"Baltimore\"\n",
    "}\n",
    "\n",
    "astroseek_url = build_astroseek_chart_url(birth_data)\n",
    "print(\"Generated Astro-Seek URL:\", astroseek_url)\n"
   ]
  },
  {
   "cell_type": "code",
   "execution_count": null,
   "id": "99a302bf",
   "metadata": {},
   "outputs": [],
   "source": [
    "\n",
    "# Paste full PDF/chart URL with dum_1_new=... included\n",
    "pdf_chart_url = \"https://horoscopes.astro-seek.com/...&p_sun=100.437&p_moon=278.938&dum_1_new=95.199...\"\n",
    "\n",
    "parsed_chart = parse_astroseek_d1(pdf_chart_url)\n",
    "print(\"\\nParsed D1 Chart with Ascendant:\")\n",
    "for planet, position in parsed_chart.items():\n",
    "    print(f\"{planet}: {position}\")\n",
    "\n",
    "push_to_firebase(\"user_test_19850702\", birth_data, parsed_chart)\n"
   ]
  }
 ],
 "metadata": {},
 "nbformat": 4,
 "nbformat_minor": 5
}
