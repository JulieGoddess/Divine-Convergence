{
 "cells": [
  {
   "cell_type": "markdown",
   "id": "50cd955f",
   "metadata": {},
   "source": [
    "# 🔐 Divine Convergence – D1 Chart Parser from Astro-Seek URL + Auto URL Generator"
   ]
  },
  {
   "cell_type": "code",
   "execution_count": null,
   "id": "c98a1968",
   "metadata": {},
   "outputs": [],
   "source": [
    "\n",
    "import re\n",
    "import urllib.parse\n",
    "\n",
    "# ♈ Zodiac Signs by Degree Range\n",
    "zodiac_signs = [\n",
    "    \"Aries\", \"Taurus\", \"Gemini\", \"Cancer\", \"Leo\", \"Virgo\",\n",
    "    \"Libra\", \"Scorpio\", \"Sagittarius\", \"Capricorn\", \"Aquarius\", \"Pisces\"\n",
    "]\n",
    "\n",
    "# 🌟 Convert Degree to Sign\n",
    "def degree_to_sign(degree_float):\n",
    "    sign_index = int(degree_float // 30)\n",
    "    degree_within_sign = round(degree_float % 30, 2)\n",
    "    sign = zodiac_signs[sign_index]\n",
    "    return f\"{degree_within_sign:.2f}° {sign}\"\n"
   ]
  },
  {
   "cell_type": "code",
   "execution_count": null,
   "id": "11d2aa62",
   "metadata": {},
   "outputs": [],
   "source": [
    "\n",
    "# 🌐 Generate Astro-Seek URL from birth data\n",
    "def build_astroseek_chart_url(birth_data):\n",
    "    base_url = \"https://horoscopes.astro-seek.com/birth-chart-horoscope-online\"\n",
    "    params = {\n",
    "        \"narozeni_den\": birth_data[\"day\"],\n",
    "        \"narozeni_mesic\": birth_data[\"month\"],\n",
    "        \"narozeni_rok\": birth_data[\"year\"],\n",
    "        \"narozeni_hodina\": birth_data[\"hour\"],\n",
    "        \"narozeni_minuta\": birth_data[\"minute\"],\n",
    "        \"narozeni_mesto\": birth_data[\"city\"],\n",
    "        \"send\": \"Send\"\n",
    "    }\n",
    "    query_string = urllib.parse.urlencode(params)\n",
    "    return f\"{base_url}?{query_string}\"\n"
   ]
  },
  {
   "cell_type": "code",
   "execution_count": null,
   "id": "e400ad4a",
   "metadata": {},
   "outputs": [],
   "source": [
    "\n",
    "# 🌌 Parse planetary longitudes from Astro-Seek chart URL\n",
    "def parse_astroseek_d1(url):\n",
    "    pattern = re.compile(r\"p_(sun|moon|mercury|venus|mars|jupiter|saturn|uran|neptun|pluto|uzel|lilith|chiron)=([\\d.]+)\")\n",
    "    matches = pattern.findall(url.lower())\n",
    "\n",
    "    chart_data = {}\n",
    "    for planet, value in matches:\n",
    "        degree = float(value)\n",
    "        planet_name = planet.capitalize().replace(\"uzel\", \"North Node\").replace(\"uran\", \"Uranus\").replace(\"neptun\", \"Neptune\").replace(\"pluto\", \"Pluto\").replace(\"lilith\", \"Lilith\").replace(\"chiron\", \"Chiron\")\n",
    "        chart_data[planet_name] = degree_to_sign(degree)\n",
    "\n",
    "    return chart_data\n"
   ]
  },
  {
   "cell_type": "code",
   "execution_count": null,
   "id": "72377600",
   "metadata": {},
   "outputs": [],
   "source": [
    "\n",
    "# 🧪 Example Test Data\n",
    "birth_data = {\n",
    "    \"day\": 2,\n",
    "    \"month\": 7,\n",
    "    \"year\": 1985,\n",
    "    \"hour\": 5,\n",
    "    \"minute\": 25,\n",
    "    \"city\": \"Baltimore\"\n",
    "}\n",
    "\n",
    "# 🧩 Step 1: Generate chart URL from birth metadata\n",
    "astroseek_url = build_astroseek_chart_url(birth_data)\n",
    "print(\"Generated Astro-Seek URL:\", astroseek_url)\n"
   ]
  },
  {
   "cell_type": "code",
   "execution_count": null,
   "id": "7663448c",
   "metadata": {},
   "outputs": [],
   "source": [
    "\n",
    "# ⚠️ Manual Step: Paste PDF/chart URL with planetary data\n",
    "pdf_chart_url = \"https://horoscopes.astro-seek.com/...&p_sun=100.43&p_moon=278.93&p_mercury=123.89...\"\n",
    "\n",
    "# 🪄 Step 2: Parse D1 planetary data from that URL\n",
    "parsed_chart = parse_astroseek_d1(pdf_chart_url)\n",
    "print(\"\\nParsed D1 Chart:\")\n",
    "for planet, position in parsed_chart.items():\n",
    "    print(f\"{planet}: {position}\")\n"
   ]
  }
 ],
 "metadata": {},
 "nbformat": 4,
 "nbformat_minor": 5
}
