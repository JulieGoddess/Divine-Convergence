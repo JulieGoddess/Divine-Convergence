
# Divine Convergence D1 Chart Parser from Astro-Seek URL 🔐✨

import re

# Zodiac signs by degree range
zodiac_signs = [
    "Aries", "Taurus", "Gemini", "Cancer", "Leo", "Virgo",
    "Libra", "Scorpio", "Sagittarius", "Capricorn", "Aquarius", "Pisces"
]

def degree_to_sign(degree_float):
    sign_index = int(degree_float // 30)
    degree_within_sign = round(degree_float % 30, 2)
    sign = zodiac_signs[sign_index]
    return f"{degree_within_sign:.2f}° {sign}"

def parse_astroseek_d1(url):
    pattern = re.compile(r"p_(sun|moon|mercury|venus|mars|jupiter|saturn|uran|neptun|pluto|uzel|lilith|chiron)=([\d.]+)")
    matches = pattern.findall(url.lower())

    chart_data = {}
    for planet, value in matches:
        degree = float(value)
        planet_name = planet.capitalize().replace("uzel", "North Node").replace("uran", "Uranus").replace("neptun", "Neptune").replace("pluto", "Pluto").replace("lilith", "Lilith").replace("chiron", "Chiron")
        chart_data[planet_name] = degree_to_sign(degree)

    return chart_data

# 🔍 Example usage
astroseek_url = "https://horoscopes.astro-seek.com/...&p_sun=100.43&p_moon=278.93&p_mercury=123.89&p_venus=55.8&p_mars=105.17&p_jupiter=315.79&p_saturn=231.9&p_uran=254.98&p_neptun=272&p_pluto=211.95"
d1_chart = parse_astroseek_d1(astroseek_url)

print("D1 Chart (Rasi):")
for k, v in d1_chart.items():
    print(f"{k}: {v}")
