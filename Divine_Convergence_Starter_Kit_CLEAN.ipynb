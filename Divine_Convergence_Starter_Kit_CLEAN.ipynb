{
 "cells": [
  {
   "cell_type": "markdown",
   "id": "f8f554bc",
   "metadata": {},
   "source": [
    "# 🔐 Divine Convergence Soulmate Parser – Starter Kit"
   ]
  },
  {
   "cell_type": "markdown",
   "id": "7314d78c",
   "metadata": {},
   "source": [
    "## Step 0: Upload Your Firebase Key\n",
    "Upload your `.json` service account key from Firebase."
   ]
  },
  {
   "cell_type": "code",
   "execution_count": null,
   "id": "53946238",
   "metadata": {},
   "outputs": [],
   "source": [
    "\n",
    "from google.colab import files\n",
    "uploaded = files.upload()\n",
    "\n",
    "import json\n",
    "import os\n",
    "\n",
    "for fn in uploaded.keys():\n",
    "    if fn.endswith('.json'):\n",
    "        firebase_key_path = fn\n",
    "        break\n"
   ]
  },
  {
   "cell_type": "markdown",
   "id": "4602daa5",
   "metadata": {},
   "source": [
    "## Step 1: Install Required Packages"
   ]
  },
  {
   "cell_type": "code",
   "execution_count": null,
   "id": "0f4df04b",
   "metadata": {},
   "outputs": [],
   "source": [
    "!pip install firebase-admin beautifulsoup4 requests"
   ]
  },
  {
   "cell_type": "markdown",
   "id": "7bea361e",
   "metadata": {},
   "source": [
    "## Step 2: Initialize Firebase"
   ]
  },
  {
   "cell_type": "code",
   "execution_count": null,
   "id": "6bb139ad",
   "metadata": {},
   "outputs": [],
   "source": [
    "\n",
    "import firebase_admin\n",
    "from firebase_admin import credentials, firestore\n",
    "\n",
    "cred = credentials.Certificate(firebase_key_path)\n",
    "firebase_admin.initialize_app(cred)\n",
    "db = firestore.client()\n"
   ]
  },
  {
   "cell_type": "markdown",
   "id": "a7771bfb",
   "metadata": {},
   "source": [
    "## Step 3: Generate Astro-Seek URL"
   ]
  },
  {
   "cell_type": "code",
   "execution_count": null,
   "id": "7d313809",
   "metadata": {},
   "outputs": [],
   "source": [
    "\n",
    "def generate_astroseek_url(name, day, month, year, hour, minute, city):\n",
    "    base = \"https://horoscopes.astro-seek.com/birth-chart-horoscope-online\"\n",
    "    return f\"{base}?narozeni_den={day}&narozeni_mesic={month}&narozeni_rok={year}&narozeni_hodina={hour}&narozeni_minuta={minute}&narozeni_mesto={city.replace(' ', '+')}&send=Send\"\n"
   ]
  },
  {
   "cell_type": "markdown",
   "id": "43ef6063",
   "metadata": {},
   "source": [
    "## Step 4: Scrape D1 Chart"
   ]
  },
  {
   "cell_type": "code",
   "execution_count": null,
   "id": "38453d2f",
   "metadata": {},
   "outputs": [],
   "source": [
    "\n",
    "import requests\n",
    "from bs4 import BeautifulSoup\n",
    "\n",
    "def parse_d1_planets(url):\n",
    "    r = requests.get(url)\n",
    "    soup = BeautifulSoup(r.text, 'html.parser')\n",
    "    planets = {}\n",
    "    for row in soup.select('table.tranzit tr'):\n",
    "        cells = row.find_all('td')\n",
    "        if len(cells) >= 2:\n",
    "            name = cells[0].text.strip()\n",
    "            sign = cells[1].text.strip()\n",
    "            if name in ['Sun', 'Moon', 'Mercury', 'Venus', 'Mars', 'Jupiter', 'Saturn', 'Uranus', 'Neptune', 'Pluto']:\n",
    "                planets[name] = sign\n",
    "    return planets\n"
   ]
  },
  {
   "cell_type": "markdown",
   "id": "e23177bf",
   "metadata": {},
   "source": [
    "## Step 5: Push to Firebase"
   ]
  },
  {
   "cell_type": "code",
   "execution_count": null,
   "id": "d545dfa3",
   "metadata": {},
   "outputs": [],
   "source": [
    "\n",
    "def push_to_firebase(user_id, birth_data, chart_data):\n",
    "    user_ref = db.collection('users').document(user_id)\n",
    "    user_ref.set({\n",
    "        'birthData': birth_data,\n",
    "        'chartData': chart_data,\n",
    "        'matchStatus': 'waiting'\n",
    "    })\n",
    "    print(f\"Pushed {user_id} to Firebase.\")\n"
   ]
  },
  {
   "cell_type": "markdown",
   "id": "0c6bf1d3",
   "metadata": {},
   "source": [
    "## Step 6: Example Usage"
   ]
  },
  {
   "cell_type": "code",
   "execution_count": null,
   "id": "b62dfb8b",
   "metadata": {},
   "outputs": [],
   "source": [
    "\n",
    "name = \"Test User\"\n",
    "birth_data = {\n",
    "    'name': name,\n",
    "    'day': 2,\n",
    "    'month': 7,\n",
    "    'year': 1985,\n",
    "    'hour': 5,\n",
    "    'minute': 25,\n",
    "    'city': 'Baltimore'\n",
    "}\n",
    "\n",
    "url = generate_astroseek_url(name, **birth_data)\n",
    "print(\"Chart URL:\", url)\n",
    "\n",
    "chart_data = parse_d1_planets(url)\n",
    "print(\"Chart Data:\", chart_data)\n",
    "\n",
    "push_to_firebase(\"test_user_001\", birth_data, chart_data)\n"
   ]
  }
 ],
 "metadata": {},
 "nbformat": 4,
 "nbformat_minor": 5
}
