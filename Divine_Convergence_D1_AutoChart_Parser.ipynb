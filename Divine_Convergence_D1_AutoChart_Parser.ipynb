
# 🔐 Divine Convergence – D1 Chart Parser from Astro-Seek URL + Auto URL Generator

import re
import urllib.parse

# ♈ Zodiac Signs by Degree Range
zodiac_signs = [
    "Aries", "Taurus", "Gemini", "Cancer", "Leo", "Virgo",
    "Libra", "Scorpio", "Sagittarius", "Capricorn", "Aquarius", "Pisces"
]

# 🌟 Convert Degree to Sign
def degree_to_sign(degree_float):
    sign_index = int(degree_float // 30)
    degree_within_sign = round(degree_float % 30, 2)
    sign = zodiac_signs[sign_index]
    return f"{degree_within_sign:.2f}° {sign}"

# 🌐 Generate Astro-Seek URL from birth data
def build_astroseek_chart_url(birth_data):
    base_url = "https://horoscopes.astro-seek.com/birth-chart-horoscope-online"
    params = {
        "narozeni_den": birth_data["day"],
        "narozeni_mesic": birth_data["month"],
        "narozeni_rok": birth_data["year"],
        "narozeni_hodina": birth_data["hour"],
        "narozeni_minuta": birth_data["minute"],
        "narozeni_mesto": birth_data["city"],
        "send": "Send"
    }
    query_string = urllib.parse.urlencode(params)
    return f"{base_url}?{query_string}"

# 🌌 Parse planetary longitudes from Astro-Seek chart URL
def parse_astroseek_d1(url):
    pattern = re.compile(r"p_(sun|moon|mercury|venus|mars|jupiter|saturn|uran|neptun|pluto|uzel|lilith|chiron)=([\d.]+)")
    matches = pattern.findall(url.lower())

    chart_data = {}
    for planet, value in matches:
        degree = float(value)
        planet_name = planet.capitalize().replace("uzel", "North Node").replace("uran", "Uranus").replace("neptun", "Neptune").replace("pluto", "Pluto").replace("lilith", "Lilith").replace("chiron", "Chiron")
        chart_data[planet_name] = degree_to_sign(degree)

    return chart_data

# 🧪 Example Test Data
birth_data = {
    "day": 2,
    "month": 7,
    "year": 1985,
    "hour": 5,
    "minute": 25,
    "city": "Baltimore"
}

# 🧩 Step 1: Generate chart URL from birth metadata
astroseek_url = build_astroseek_chart_url(birth_data)
print("Generated Astro-Seek URL:", astroseek_url)

# ⚠️ Manual step: After opening the above URL, paste the PDF/chart image URL below (with p_sun etc.)
pdf_chart_url = "https://horoscopes.astro-seek.com/horoscope-chart4def-700__radix_astroseek-2-7-1985_05-25.png?...&p_sun=100.43&p_moon=278.93&p_mercury=123.89..."

# 🪄 Step 2: Parse D1 planetary data from that PDF/chart URL
parsed_chart = parse_astroseek_d1(pdf_chart_url)
print("\nParsed D1 Chart:")
for planet, position in parsed_chart.items():
    print(f"{planet}: {position}")
