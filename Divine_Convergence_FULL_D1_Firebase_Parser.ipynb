{
 "cells": [
  {
   "cell_type": "markdown",
   "id": "6b8c1f10",
   "metadata": {},
   "source": [
    "# 🔐 Divine Convergence – Full D1 Chart Parser with Firebase Upload"
   ]
  },
  {
   "cell_type": "markdown",
   "id": "43b0e4c9",
   "metadata": {},
   "source": [
    "## Step 0: Upload Your Firebase Key"
   ]
  },
  {
   "cell_type": "code",
   "execution_count": null,
   "id": "d62f22f7",
   "metadata": {},
   "outputs": [],
   "source": [
    "\n",
    "from google.colab import files\n",
    "uploaded = files.upload()\n",
    "\n",
    "import json\n",
    "import os\n",
    "\n",
    "for fn in uploaded.keys():\n",
    "    if fn.endswith('.json'):\n",
    "        firebase_key_path = fn\n",
    "        break\n"
   ]
  },
  {
   "cell_type": "markdown",
   "id": "dce97110",
   "metadata": {},
   "source": [
    "## Step 1: Install Required Packages"
   ]
  },
  {
   "cell_type": "code",
   "execution_count": null,
   "id": "13877b51",
   "metadata": {},
   "outputs": [],
   "source": [
    "!pip install firebase-admin"
   ]
  },
  {
   "cell_type": "markdown",
   "id": "ebb879e9",
   "metadata": {},
   "source": [
    "## Step 2: Initialize Firebase"
   ]
  },
  {
   "cell_type": "code",
   "execution_count": null,
   "id": "73e7ed53",
   "metadata": {},
   "outputs": [],
   "source": [
    "\n",
    "import firebase_admin\n",
    "from firebase_admin import credentials, firestore\n",
    "\n",
    "cred = credentials.Certificate(firebase_key_path)\n",
    "firebase_admin.initialize_app(cred)\n",
    "db = firestore.client()\n"
   ]
  },
  {
   "cell_type": "markdown",
   "id": "4632906b",
   "metadata": {},
   "source": [
    "## Step 3: Define Astro-Seek Parsing and Utilities"
   ]
  },
  {
   "cell_type": "code",
   "execution_count": null,
   "id": "c767498e",
   "metadata": {},
   "outputs": [],
   "source": [
    "\n",
    "import re\n",
    "import urllib.parse\n",
    "\n",
    "zodiac_signs = [\n",
    "    \"Aries\", \"Taurus\", \"Gemini\", \"Cancer\", \"Leo\", \"Virgo\",\n",
    "    \"Libra\", \"Scorpio\", \"Sagittarius\", \"Capricorn\", \"Aquarius\", \"Pisces\"\n",
    "]\n",
    "\n",
    "def degree_to_sign(degree_float):\n",
    "    sign_index = int(degree_float // 30)\n",
    "    degree_within_sign = round(degree_float % 30, 2)\n",
    "    sign = zodiac_signs[sign_index]\n",
    "    return f\"{degree_within_sign:.2f}° {sign}\"\n",
    "\n",
    "def build_astroseek_chart_url(birth_data):\n",
    "    base_url = \"https://horoscopes.astro-seek.com/birth-chart-horoscope-online\"\n",
    "    params = {\n",
    "        \"narozeni_den\": birth_data[\"day\"],\n",
    "        \"narozeni_mesic\": birth_data[\"month\"],\n",
    "        \"narozeni_rok\": birth_data[\"year\"],\n",
    "        \"narozeni_hodina\": birth_data[\"hour\"],\n",
    "        \"narozeni_minuta\": birth_data[\"minute\"],\n",
    "        \"narozeni_mesto\": birth_data[\"city\"],\n",
    "        \"send\": \"Send\"\n",
    "    }\n",
    "    query_string = urllib.parse.urlencode(params)\n",
    "    return f\"{base_url}?{query_string}\"\n",
    "\n",
    "def parse_astroseek_d1(url):\n",
    "    pattern = re.compile(r\"p_(sun|moon|mercury|venus|mars|jupiter|saturn|uran|neptun|pluto|uzel|lilith|chiron)=([\\d.]+)\")\n",
    "    matches = pattern.findall(url.lower())\n",
    "\n",
    "    chart_data = {}\n",
    "    for planet, value in matches:\n",
    "        degree = float(value)\n",
    "        planet_name = planet.capitalize().replace(\"uzel\", \"North Node\").replace(\"uran\", \"Uranus\").replace(\"neptun\", \"Neptune\").replace(\"pluto\", \"Pluto\").replace(\"lilith\", \"Lilith\").replace(\"chiron\", \"Chiron\")\n",
    "        chart_data[planet_name] = degree_to_sign(degree)\n",
    "\n",
    "    return chart_data\n"
   ]
  },
  {
   "cell_type": "markdown",
   "id": "4457e41a",
   "metadata": {},
   "source": [
    "## Step 4: Push Parsed Chart to Firebase"
   ]
  },
  {
   "cell_type": "code",
   "execution_count": null,
   "id": "a2dd3fcc",
   "metadata": {},
   "outputs": [],
   "source": [
    "\n",
    "def push_to_firebase(user_id, birth_data, chart_data):\n",
    "    user_ref = db.collection('users').document(user_id)\n",
    "    user_ref.set({\n",
    "        'birthData': birth_data,\n",
    "        'chartData': chart_data,\n",
    "        'matchStatus': 'waiting'\n",
    "    })\n",
    "    print(f\"Pushed {user_id} to Firebase.\")\n"
   ]
  },
  {
   "cell_type": "markdown",
   "id": "1f3636e9",
   "metadata": {},
   "source": [
    "## Step 5: Example Usage"
   ]
  },
  {
   "cell_type": "code",
   "execution_count": null,
   "id": "d765d0fa",
   "metadata": {},
   "outputs": [],
   "source": [
    "\n",
    "birth_data = {\n",
    "    \"day\": 2,\n",
    "    \"month\": 7,\n",
    "    \"year\": 1985,\n",
    "    \"hour\": 5,\n",
    "    \"minute\": 25,\n",
    "    \"city\": \"Baltimore\"\n",
    "}\n",
    "\n",
    "astroseek_url = build_astroseek_chart_url(birth_data)\n",
    "print(\"Generated Astro-Seek URL:\", astroseek_url)\n"
   ]
  },
  {
   "cell_type": "code",
   "execution_count": null,
   "id": "54c41804",
   "metadata": {},
   "outputs": [],
   "source": [
    "\n",
    "# ⚠️ Manual Step: Paste chart PDF URL (with p_sun, etc.)\n",
    "pdf_chart_url = \"https://horoscopes.astro-seek.com/...&p_sun=100.43&p_moon=278.93&p_mercury=123.89...\"\n",
    "\n",
    "parsed_chart = parse_astroseek_d1(pdf_chart_url)\n",
    "print(\"\\nParsed D1 Chart:\")\n",
    "for planet, position in parsed_chart.items():\n",
    "    print(f\"{planet}: {position}\")\n",
    "\n",
    "push_to_firebase(\"user_test_19850702\", birth_data, parsed_chart)\n"
   ]
  }
 ],
 "metadata": {},
 "nbformat": 4,
 "nbformat_minor": 5
}
