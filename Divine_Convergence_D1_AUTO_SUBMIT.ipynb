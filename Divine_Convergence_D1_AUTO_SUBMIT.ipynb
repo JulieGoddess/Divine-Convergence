{
 "cells": [
  {
   "cell_type": "markdown",
   "id": "ada905cd",
   "metadata": {},
   "source": [
    "# 🔐 Divine Convergence – D1 Chart Auto Fetch (Real Form Submission)"
   ]
  },
  {
   "cell_type": "code",
   "execution_count": null,
   "id": "9d4b28a8",
   "metadata": {},
   "outputs": [],
   "source": [
    "\n",
    "from google.colab import files\n",
    "uploaded = files.upload()\n",
    "\n",
    "import json\n",
    "import os\n",
    "\n",
    "for fn in uploaded.keys():\n",
    "    if fn.endswith('.json'):\n",
    "        firebase_key_path = fn\n",
    "        break\n"
   ]
  },
  {
   "cell_type": "code",
   "execution_count": null,
   "id": "036731cc",
   "metadata": {},
   "outputs": [],
   "source": [
    "!pip install firebase-admin beautifulsoup4 requests"
   ]
  },
  {
   "cell_type": "code",
   "execution_count": null,
   "id": "11557ddd",
   "metadata": {},
   "outputs": [],
   "source": [
    "\n",
    "import firebase_admin\n",
    "from firebase_admin import credentials, firestore\n",
    "import requests\n",
    "from bs4 import BeautifulSoup\n",
    "import re\n",
    "import urllib.parse\n",
    "\n",
    "cred = credentials.Certificate(firebase_key_path)\n",
    "firebase_admin.initialize_app(cred)\n",
    "db = firestore.client()\n"
   ]
  },
  {
   "cell_type": "code",
   "execution_count": null,
   "id": "1b0416fd",
   "metadata": {},
   "outputs": [],
   "source": [
    "\n",
    "zodiac_signs = [\n",
    "    \"Aries\", \"Taurus\", \"Gemini\", \"Cancer\", \"Leo\", \"Virgo\",\n",
    "    \"Libra\", \"Scorpio\", \"Sagittarius\", \"Capricorn\", \"Aquarius\", \"Pisces\"\n",
    "]\n",
    "\n",
    "def degree_to_sign(degree_float):\n",
    "    sign_index = int(degree_float // 30)\n",
    "    degree_within_sign = round(degree_float % 30, 2)\n",
    "    return f\"{degree_within_sign:.2f}° {zodiac_signs[sign_index]}\"\n"
   ]
  },
  {
   "cell_type": "code",
   "execution_count": null,
   "id": "af20fa99",
   "metadata": {},
   "outputs": [],
   "source": [
    "\n",
    "def fetch_chart_url_from_submission(birth_data):\n",
    "    post_url = \"https://horoscopes.astro-seek.com/birth-chart-horoscope-online\"\n",
    "    payload = {\n",
    "        \"narozeni_den\": birth_data[\"day\"],\n",
    "        \"narozeni_mesic\": birth_data[\"month\"],\n",
    "        \"narozeni_rok\": birth_data[\"year\"],\n",
    "        \"narozeni_hodina\": birth_data[\"hour\"],\n",
    "        \"narozeni_minuta\": birth_data[\"minute\"],\n",
    "        \"narozeni_mesto\": birth_data[\"city\"],\n",
    "        \"narozeni_stat\": \"US\",\n",
    "        \"narozeni_podstat\": \"MD\",\n",
    "        \"narozeni_city\": \"Baltimore, USA, Maryland\",\n",
    "        \"narozeni_sirka_stupne\": 39,\n",
    "        \"narozeni_sirka_minuty\": 17,\n",
    "        \"narozeni_sirka_smer\": 0,\n",
    "        \"narozeni_delka_stupne\": 76,\n",
    "        \"narozeni_delka_minuty\": 37,\n",
    "        \"narozeni_delka_smer\": 1,\n",
    "        \"send\": \"Send\"\n",
    "    }\n",
    "\n",
    "    session = requests.Session()\n",
    "    response = session.post(post_url, data=payload)\n",
    "    soup = BeautifulSoup(response.text, \"html.parser\")\n",
    "    img_tag = soup.find(\"img\", src=re.compile(\"horoscope-chart\"))\n",
    "\n",
    "    if img_tag:\n",
    "        return \"https://horoscopes.astro-seek.com\" + img_tag[\"src\"]\n",
    "    raise ValueError(\"Chart image not found after form submission.\")\n"
   ]
  },
  {
   "cell_type": "code",
   "execution_count": null,
   "id": "c214eb04",
   "metadata": {},
   "outputs": [],
   "source": [
    "\n",
    "def parse_astroseek_d1(url):\n",
    "    pattern = re.compile(r\"p_([a-zA-Z_]+)=([\\d.]+)\")\n",
    "    matches = pattern.findall(url)\n",
    "\n",
    "    aliases = {\n",
    "        \"slunce\": \"Sun\", \"sun\": \"Sun\", \"luna\": \"Moon\", \"moon\": \"Moon\",\n",
    "        \"mercury\": \"Mercury\", \"venus\": \"Venus\", \"mars\": \"Mars\",\n",
    "        \"jupiter\": \"Jupiter\", \"saturn\": \"Saturn\",\n",
    "        \"uran\": \"Uranus\", \"neptun\": \"Neptune\", \"pluto\": \"Pluto\",\n",
    "        \"uzel\": \"North Node\", \"lilith\": \"Lilith\", \"chiron\": \"Chiron\",\n",
    "        \"vertex\": \"Vertex\", \"fortune\": \"Fortune\", \"spirit\": \"Spirit\"\n",
    "    }\n",
    "\n",
    "    chart_data = {}\n",
    "    for raw_planet, value in matches:\n",
    "        try:\n",
    "            degree = float(value)\n",
    "            key = raw_planet.lower()\n",
    "            planet_name = aliases.get(key, key.capitalize())\n",
    "            chart_data[planet_name] = degree_to_sign(degree)\n",
    "        except ValueError:\n",
    "            print(f\"⚠️ Skipping invalid value for {raw_planet}: {value}\")\n",
    "\n",
    "    asc_match = re.search(r\"dum_1_new=([\\d.]+)\", url)\n",
    "    if asc_match:\n",
    "        asc_degree = float(asc_match.group(1))\n",
    "        chart_data[\"Ascendant\"] = degree_to_sign(asc_degree)\n",
    "\n",
    "    return chart_data\n"
   ]
  },
  {
   "cell_type": "code",
   "execution_count": null,
   "id": "b6ea69d9",
   "metadata": {},
   "outputs": [],
   "source": [
    "\n",
    "def push_to_firebase(user_id, birth_data, chart_data):\n",
    "    user_ref = db.collection('users').document(user_id)\n",
    "    user_ref.set({\n",
    "        'birthData': birth_data,\n",
    "        'chartData': chart_data,\n",
    "        'matchStatus': 'waiting'\n",
    "    })\n",
    "    print(f\"Pushed {user_id} to Firebase.\")\n"
   ]
  },
  {
   "cell_type": "code",
   "execution_count": null,
   "id": "5e196a76",
   "metadata": {},
   "outputs": [],
   "source": [
    "\n",
    "birth_data = {\n",
    "    \"day\": 2,\n",
    "    \"month\": 7,\n",
    "    \"year\": 1985,\n",
    "    \"hour\": 5,\n",
    "    \"minute\": 25,\n",
    "    \"city\": \"Baltimore\"\n",
    "}\n",
    "\n",
    "chart_url = fetch_chart_url_from_submission(birth_data)\n",
    "print(\"✅ Auto-extracted chart URL:\", chart_url)\n",
    "\n",
    "parsed_chart = parse_astroseek_d1(chart_url)\n",
    "print(\"\\nParsed D1 Chart:\")\n",
    "for planet, position in parsed_chart.items():\n",
    "    print(f\"{planet}: {position}\")\n",
    "\n",
    "push_to_firebase(\"user_auto_post_19850702\", birth_data, parsed_chart)\n"
   ]
  }
 ],
 "metadata": {},
 "nbformat": 4,
 "nbformat_minor": 5
}
